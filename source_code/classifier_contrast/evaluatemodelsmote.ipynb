{
 "cells": [
  {
   "cell_type": "code",
   "execution_count": 1,
   "metadata": {},
   "outputs": [],
   "source": [
    "import numpy as np \n",
    "import pandas as pd "
   ]
  },
  {
   "cell_type": "code",
   "execution_count": null,
   "metadata": {},
   "outputs": [],
   "source": [
    "data = pd.read_excel('sen3.xlsx')\n",
    "feature = data.iloc[:, 5:-1] \n",
    "Y = data['label']\n",
    "frequency_features = feature.iloc[:,:500]\n",
    "similarity_features = feature.iloc[:,500:501]\n",
    "sentiment_features = feature.iloc[:,501:507]\n",
    "entity_features = feature.iloc[:,507:523]\n",
    "semantic_features = feature.iloc[:,523:]"
   ]
  },
  {
   "cell_type": "code",
   "execution_count": 3,
   "metadata": {},
   "outputs": [],
   "source": [
    "import warnings\n",
    "def warn(*args, **kwargs):\n",
    "    pass\n",
    "warnings.warn = warn\n",
    "from sklearn.tree import DecisionTreeClassifier\n",
    "from sklearn.naive_bayes import GaussianNB, BernoulliNB, MultinomialNB\n",
    "from sklearn.neighbors import KNeighborsClassifier\n",
    "from sklearn.linear_model import LogisticRegression\n",
    "from sklearn.ensemble import RandomForestClassifier, VotingClassifier\n",
    "from sklearn.svm import SVC\n",
    "from xgboost import XGBClassifier\n",
    "from sklearn.preprocessing import StandardScaler\n",
    "from sklearn.metrics import (accuracy_score, classification_report, confusion_matrix, f1_score, auc,\n",
    "                              precision_score, recall_score, roc_auc_score, roc_curve, \n",
    "                             precision_recall_curve)\n",
    "from sklearn.model_selection import train_test_split\n",
    "from sklearn.preprocessing import StandardScaler\n",
    "from imblearn.over_sampling import SMOTE"
   ]
  },
  {
   "cell_type": "code",
   "execution_count": 4,
   "metadata": {},
   "outputs": [],
   "source": [
    "from itertools import combinations\n",
    "\n",
    "feature_list = [frequency_features,similarity_features, sentiment_features, entity_features, semantic_features]\n",
    "combinations_list = []\n",
    "for i in range(1, len(feature_list) + 1):\n",
    "    for combination in combinations(feature_list, i):\n",
    "        combinations_list.append(combination)"
   ]
  },
  {
   "cell_type": "code",
   "execution_count": 5,
   "metadata": {},
   "outputs": [],
   "source": [
    "from modeleva import *"
   ]
  },
  {
   "cell_type": "code",
   "execution_count": null,
   "metadata": {},
   "outputs": [],
   "source": [
    "for combination in combinations_list:\n",
    "    print('Combination:', [feature.columns[0] for feature in combination])\n",
    "    Xcom = pd.concat(combination, axis=1)\n",
    "    print(Xcom.shape)\n",
    "    st=StandardScaler()\n",
    "    Xcom = st.fit_transform(Xcom)\n",
    "    \n",
    "    X_train, X_test, y_train, y_test = train_test_split(Xcom, Y, test_size=0.2, random_state=42)\n",
    "    over_samples = SMOTE(random_state=1234) \n",
    "    over_samples_X,over_samples_y = over_samples.fit_resample(X_train, y_train)\n",
    "    #over_samples_X, over_samples_y = over_samples.fit_sample(X_train.values,y_train.values.ravel())\n",
    "    # before smote\n",
    "    print(y_train.value_counts()/len(y_train))\n",
    "    # after smote\n",
    "    print(pd.Series(over_samples_y).value_counts()/len(over_samples_y))\n",
    "    knn = KNeighborsClassifier(n_neighbors=10)\n",
    "    lr = LogisticRegression()\n",
    "    gnb = GaussianNB()\n",
    "    bnb = BernoulliNB()\n",
    "    tree = DecisionTreeClassifier()\n",
    "    forest = RandomForestClassifier()\n",
    "    xgb = XGBClassifier()\n",
    "    svc = SVC(probability=True)\n",
    "    model_list = [knn, lr, gnb, bnb, tree, forest, xgb]\n",
    "    kf = KFold(n_splits=5, shuffle=True, random_state=33)  #5-fold\n",
    "    multi_model_eval(model_list, over_samples_X,over_samples_y, kf)\n",
    "    for i in model_list:\n",
    "        print(accuracy_score(i.predict(X_test),y_test))"
   ]
  }
 ],
 "metadata": {
  "kernelspec": {
   "display_name": "Python 3",
   "language": "python",
   "name": "python3"
  },
  "language_info": {
   "codemirror_mode": {
    "name": "ipython",
    "version": 3
   },
   "file_extension": ".py",
   "mimetype": "text/x-python",
   "name": "python",
   "nbconvert_exporter": "python",
   "pygments_lexer": "ipython3",
   "version": "3.7.5"
  }
 },
 "nbformat": 4,
 "nbformat_minor": 2
}
